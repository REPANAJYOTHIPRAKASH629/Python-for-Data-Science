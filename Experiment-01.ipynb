{
 "cells": [
  {
   "cell_type": "code",
   "execution_count": 1,
   "id": "0833bd0e",
   "metadata": {},
   "outputs": [],
   "source": [
    "import numpy as np"
   ]
  },
  {
   "cell_type": "code",
   "execution_count": 2,
   "id": "6897c3de",
   "metadata": {},
   "outputs": [],
   "source": [
    "arr = np.array([[[1.8,2,3],[4,2,5]],[[3,2,1],[5,2,4]]])"
   ]
  },
  {
   "cell_type": "code",
   "execution_count": 3,
   "id": "a0b41690",
   "metadata": {},
   "outputs": [
    {
     "name": "stdout",
     "output_type": "stream",
     "text": [
      "Array is of type :  <class 'numpy.ndarray'>\n"
     ]
    }
   ],
   "source": [
    "print(\"Array is of type : \",type(arr))"
   ]
  },
  {
   "cell_type": "code",
   "execution_count": 4,
   "id": "6c1b0400",
   "metadata": {},
   "outputs": [
    {
     "name": "stdout",
     "output_type": "stream",
     "text": [
      "No. of dimensions :  3\n"
     ]
    }
   ],
   "source": [
    "print(\"No. of dimensions : \",arr.ndim)"
   ]
  },
  {
   "cell_type": "code",
   "execution_count": 5,
   "id": "2c31644e",
   "metadata": {},
   "outputs": [
    {
     "name": "stdout",
     "output_type": "stream",
     "text": [
      "shape of array :  (2, 2, 3)\n"
     ]
    }
   ],
   "source": [
    "print(\"shape of array : \",arr.shape)"
   ]
  },
  {
   "cell_type": "code",
   "execution_count": 6,
   "id": "67b1986d",
   "metadata": {},
   "outputs": [
    {
     "name": "stdout",
     "output_type": "stream",
     "text": [
      "size of array :  12\n"
     ]
    }
   ],
   "source": [
    "print(\"size of array : \",arr.size)"
   ]
  },
  {
   "cell_type": "code",
   "execution_count": 7,
   "id": "5c18d6d0",
   "metadata": {},
   "outputs": [
    {
     "name": "stdout",
     "output_type": "stream",
     "text": [
      "Array stores elements of type :  float64\n"
     ]
    }
   ],
   "source": [
    "print(\"Array stores elements of type : \",arr.dtype)"
   ]
  },
  {
   "cell_type": "code",
   "execution_count": null,
   "id": "2785c5e9",
   "metadata": {},
   "outputs": [],
   "source": []
  },
  {
   "cell_type": "code",
   "execution_count": 8,
   "id": "20bc9911",
   "metadata": {},
   "outputs": [],
   "source": [
    "a = np.array([[1,2,4],[5,8,7]], dtype = 'float')"
   ]
  },
  {
   "cell_type": "code",
   "execution_count": 9,
   "id": "86893215",
   "metadata": {},
   "outputs": [
    {
     "name": "stdout",
     "output_type": "stream",
     "text": [
      "Array created passes list : \n",
      " [[1. 2. 4.]\n",
      " [5. 8. 7.]]\n"
     ]
    }
   ],
   "source": [
    "print(\"Array created passes list : \\n\",a)"
   ]
  },
  {
   "cell_type": "code",
   "execution_count": 10,
   "id": "1867249d",
   "metadata": {},
   "outputs": [],
   "source": [
    "b = np.array((1,2,3))"
   ]
  },
  {
   "cell_type": "code",
   "execution_count": 11,
   "id": "5d519d06",
   "metadata": {},
   "outputs": [
    {
     "name": "stdout",
     "output_type": "stream",
     "text": [
      "Array created using passed tuple : \n",
      " [1 2 3]\n"
     ]
    }
   ],
   "source": [
    "print(\"Array created using passed tuple : \\n\",b)"
   ]
  },
  {
   "cell_type": "code",
   "execution_count": 12,
   "id": "360bdd29",
   "metadata": {},
   "outputs": [],
   "source": [
    "c = np.zeros((3,4))"
   ]
  },
  {
   "cell_type": "code",
   "execution_count": 15,
   "id": "c0699146",
   "metadata": {},
   "outputs": [
    {
     "name": "stdout",
     "output_type": "stream",
     "text": [
      "Array intialized with all zeros : \n",
      " [[0. 0. 0. 0.]\n",
      " [0. 0. 0. 0.]\n",
      " [0. 0. 0. 0.]]\n"
     ]
    }
   ],
   "source": [
    "print(\"Array intialized with all zeros : \\n\",c)"
   ]
  },
  {
   "cell_type": "code",
   "execution_count": 16,
   "id": "75cfa7af",
   "metadata": {},
   "outputs": [],
   "source": [
    "d = np.full((3,3),6,dtype = 'complex')"
   ]
  },
  {
   "cell_type": "code",
   "execution_count": 17,
   "id": "f037730b",
   "metadata": {},
   "outputs": [
    {
     "name": "stdout",
     "output_type": "stream",
     "text": [
      "Array initialized with all 6s. Array type is complex : \n",
      " [[6.+0.j 6.+0.j 6.+0.j]\n",
      " [6.+0.j 6.+0.j 6.+0.j]\n",
      " [6.+0.j 6.+0.j 6.+0.j]]\n"
     ]
    }
   ],
   "source": [
    "print(\"Array initialized with all 6s. Array type is complex : \\n\",d)"
   ]
  },
  {
   "cell_type": "code",
   "execution_count": 18,
   "id": "18b8daf3",
   "metadata": {},
   "outputs": [],
   "source": [
    "e = np.random.randint((2,2))"
   ]
  },
  {
   "cell_type": "code",
   "execution_count": 19,
   "id": "245f7ff2",
   "metadata": {},
   "outputs": [
    {
     "name": "stdout",
     "output_type": "stream",
     "text": [
      "Random array :\n",
      " [1 0]\n"
     ]
    }
   ],
   "source": [
    "print(\"Random array :\\n\",e)"
   ]
  },
  {
   "cell_type": "code",
   "execution_count": 20,
   "id": "80dc536e",
   "metadata": {},
   "outputs": [],
   "source": [
    "f = np.arange(0,30,5)"
   ]
  },
  {
   "cell_type": "code",
   "execution_count": 21,
   "id": "876f7b7c",
   "metadata": {},
   "outputs": [
    {
     "name": "stdout",
     "output_type": "stream",
     "text": [
      "A sequential array with steps : \n",
      " [ 0  5 10 15 20 25]\n"
     ]
    }
   ],
   "source": [
    "print(\"A sequential array with steps : \\n\",f)"
   ]
  },
  {
   "cell_type": "code",
   "execution_count": 22,
   "id": "9f5b086f",
   "metadata": {},
   "outputs": [],
   "source": [
    "g = np.linspace(0,5,10)"
   ]
  },
  {
   "cell_type": "code",
   "execution_count": 23,
   "id": "f7f27202",
   "metadata": {},
   "outputs": [
    {
     "name": "stdout",
     "output_type": "stream",
     "text": [
      "Sequential array with 10mvalues between 0 and 5 : \n",
      " [0.         0.55555556 1.11111111 1.66666667 2.22222222 2.77777778\n",
      " 3.33333333 3.88888889 4.44444444 5.        ]\n"
     ]
    }
   ],
   "source": [
    "print(\"Sequential array with 10mvalues between 0 and 5 : \\n\",g)"
   ]
  },
  {
   "cell_type": "code",
   "execution_count": 24,
   "id": "02d7d24b",
   "metadata": {},
   "outputs": [],
   "source": [
    "arr = np.array([[1,2,3,4],[5,2,4,2],[1,2,0,1]])"
   ]
  },
  {
   "cell_type": "code",
   "execution_count": 25,
   "id": "d58209f9",
   "metadata": {},
   "outputs": [],
   "source": [
    "newarr = arr.reshape(2,2,3)"
   ]
  },
  {
   "cell_type": "code",
   "execution_count": 26,
   "id": "4600bb04",
   "metadata": {},
   "outputs": [
    {
     "name": "stdout",
     "output_type": "stream",
     "text": [
      "\n",
      " Original Array : \n",
      " [[1 2 3 4]\n",
      " [5 2 4 2]\n",
      " [1 2 0 1]]\n",
      "\n",
      " Reshaped array : \n",
      " [[[1 2 3]\n",
      "  [4 5 2]]\n",
      "\n",
      " [[4 2 1]\n",
      "  [2 0 1]]]\n"
     ]
    }
   ],
   "source": [
    "print(\"\\n Original Array : \\n\",arr)\n",
    "print(\"\\n Reshaped array : \\n\",newarr)"
   ]
  },
  {
   "cell_type": "code",
   "execution_count": 27,
   "id": "1e77246f",
   "metadata": {},
   "outputs": [],
   "source": [
    "arr = np.array([[1,2,3],[4,5,6]])"
   ]
  },
  {
   "cell_type": "code",
   "execution_count": 29,
   "id": "aa877689",
   "metadata": {},
   "outputs": [],
   "source": [
    "flatten_array = arr.flatten()"
   ]
  },
  {
   "cell_type": "code",
   "execution_count": 30,
   "id": "99ee743c",
   "metadata": {},
   "outputs": [
    {
     "name": "stdout",
     "output_type": "stream",
     "text": [
      "\n",
      " Original Array : \n",
      " [[1 2 3]\n",
      " [4 5 6]]\n",
      "\n",
      " Reshaped array : \n",
      " [1 2 3 4 5 6]\n"
     ]
    }
   ],
   "source": [
    "print(\"\\n Original Array : \\n\",arr)\n",
    "print(\"\\n Reshaped array : \\n\",flatten_array)"
   ]
  },
  {
   "cell_type": "code",
   "execution_count": null,
   "id": "3b5d3a07",
   "metadata": {},
   "outputs": [],
   "source": []
  },
  {
   "cell_type": "code",
   "execution_count": 31,
   "id": "a60d253e",
   "metadata": {},
   "outputs": [],
   "source": [
    "arr = np.array([[-1,2,0,4],[4,-0.5,6,0],[2.6,0,7,8],[3,-7,4,2.0]])"
   ]
  },
  {
   "cell_type": "code",
   "execution_count": 32,
   "id": "4738c8af",
   "metadata": {},
   "outputs": [
    {
     "name": "stdout",
     "output_type": "stream",
     "text": [
      "Array with first 2 rows and alternate columns (0 and 2) : \n",
      " [[-1.  0.]\n",
      " [ 4.  6.]]\n"
     ]
    }
   ],
   "source": [
    "temp = arr[:2,::2]\n",
    "print(\"Array with first 2 rows and alternate columns (0 and 2) : \\n\",temp)"
   ]
  },
  {
   "cell_type": "code",
   "execution_count": 33,
   "id": "24e288c6",
   "metadata": {},
   "outputs": [
    {
     "name": "stdout",
     "output_type": "stream",
     "text": [
      "Elements at indices (0,3),(1,2),(2,1),(3,0) : \n",
      " [4. 6. 0. 3.]\n"
     ]
    }
   ],
   "source": [
    "temp = arr[[0,1,2,3],[3,2,1,0]]\n",
    "print(\"Elements at indices (0,3),(1,2),(2,1),(3,0) : \\n\",temp)"
   ]
  },
  {
   "cell_type": "code",
   "execution_count": 34,
   "id": "c8666d59",
   "metadata": {},
   "outputs": [
    {
     "name": "stdout",
     "output_type": "stream",
     "text": [
      "Elements greater than 0 : \n",
      " [2.  4.  4.  6.  2.6 7.  8.  3.  4.  2. ]\n"
     ]
    }
   ],
   "source": [
    "cond = arr > 0\n",
    "temp = arr[cond]\n",
    "print(\"Elements greater than 0 : \\n\",temp)"
   ]
  },
  {
   "cell_type": "code",
   "execution_count": null,
   "id": "5671c53f",
   "metadata": {},
   "outputs": [],
   "source": []
  },
  {
   "cell_type": "code",
   "execution_count": 36,
   "id": "c737e4be",
   "metadata": {},
   "outputs": [
    {
     "name": "stdout",
     "output_type": "stream",
     "text": [
      "Adding 1 to every element :  [2 3 6 4]\n",
      "Substracting 3 from each element :  [-2 -1  2  0]\n",
      "Multiplying each element by 10 :  [ 3  6 15  9]\n",
      "Squaring each element :  [ 1  4 25  9]\n",
      "Doubled each element of original array :  [ 2  4 10  6]\n"
     ]
    }
   ],
   "source": [
    "a = np.array([1,2,5,3])\n",
    "print(\"Adding 1 to every element : \",a+1)\n",
    "print(\"Substracting 3 from each element : \",a-3)\n",
    "print(\"Multiplying each element by 10 : \",a*3)\n",
    "print(\"Squaring each element : \",a**2)\n",
    "a*=2\n",
    "print(\"Doubled each element of original array : \",a)"
   ]
  },
  {
   "cell_type": "code",
   "execution_count": 37,
   "id": "94dc6be9",
   "metadata": {},
   "outputs": [
    {
     "name": "stdout",
     "output_type": "stream",
     "text": [
      "\n",
      " Original array : \n",
      " [[1 2 3]\n",
      " [3 4 5]\n",
      " [9 6 0]]\n",
      "Transpose of array : \n",
      " [[1 3 9]\n",
      " [2 4 6]\n",
      " [3 5 0]]\n"
     ]
    }
   ],
   "source": [
    "a = np.array([[1,2,3],[3,4,5],[9,6,0]])\n",
    "print(\"\\n Original array : \\n\",a)\n",
    "print(\"Transpose of array : \\n\",a.T)"
   ]
  },
  {
   "cell_type": "code",
   "execution_count": null,
   "id": "0655a27f",
   "metadata": {},
   "outputs": [],
   "source": []
  },
  {
   "cell_type": "code",
   "execution_count": 38,
   "id": "fef7273d",
   "metadata": {},
   "outputs": [],
   "source": [
    "arr = np.array([[1,5,6],[4,7,2],[3,1,9]])"
   ]
  },
  {
   "cell_type": "code",
   "execution_count": 39,
   "id": "af36f7ed",
   "metadata": {},
   "outputs": [
    {
     "name": "stdout",
     "output_type": "stream",
     "text": [
      "Largest element is :  9\n",
      "Row-wise maximum elements  [6 7 9]\n",
      "Column-wise minimum elements  [1 1 2]\n",
      "Sum of all array elemnts 38\n",
      "Cummulative sum along each row : \n",
      " [[ 1  6 12]\n",
      " [ 4 11 13]\n",
      " [ 3  4 13]]\n"
     ]
    }
   ],
   "source": [
    "print(\"Largest element is : \",arr.max())\n",
    "print(\"Row-wise maximum elements \",arr.max(axis = 1))\n",
    "print(\"Column-wise minimum elements \",arr.min(axis = 0))\n",
    "print(\"Sum of all array elemnts\",arr.sum())\n",
    "print(\"Cummulative sum along each row : \\n\",arr.cumsum(axis = 1))"
   ]
  },
  {
   "cell_type": "code",
   "execution_count": null,
   "id": "97e9c905",
   "metadata": {},
   "outputs": [],
   "source": []
  },
  {
   "cell_type": "code",
   "execution_count": null,
   "id": "2c2bb17a",
   "metadata": {},
   "outputs": [],
   "source": [
    "a = np.array([[1,2],[3,4]])\n",
    "b = np.arrar([[4,3],[2,1]])"
   ]
  },
  {
   "cell_type": "code",
   "execution_count": 40,
   "id": "f34e4509",
   "metadata": {},
   "outputs": [
    {
     "name": "stdout",
     "output_type": "stream",
     "text": [
      "Array sum : \n",
      " [[ 2  4  6]\n",
      " [ 4  6  8]\n",
      " [10  8  3]]\n",
      "Array multiplication : \n",
      " [[ 1  4  9]\n",
      " [ 3  8 15]\n",
      " [ 9 12  0]]\n",
      "MAtrix multiplication : \n",
      " [14 26 21]\n"
     ]
    }
   ],
   "source": [
    "print(\"Array sum : \\n\",a + b)\n",
    "print(\"Array multiplication : \\n\", a * b)\n",
    "print(\"MAtrix multiplication : \\n\",a.dot(b))"
   ]
  },
  {
   "cell_type": "code",
   "execution_count": null,
   "id": "e08daeda",
   "metadata": {},
   "outputs": [],
   "source": []
  }
 ],
 "metadata": {
  "kernelspec": {
   "display_name": "Python 3 (ipykernel)",
   "language": "python",
   "name": "python3"
  },
  "language_info": {
   "codemirror_mode": {
    "name": "ipython",
    "version": 3
   },
   "file_extension": ".py",
   "mimetype": "text/x-python",
   "name": "python",
   "nbconvert_exporter": "python",
   "pygments_lexer": "ipython3",
   "version": "3.10.9"
  }
 },
 "nbformat": 4,
 "nbformat_minor": 5
}
